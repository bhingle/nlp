{
  "nbformat": 4,
  "nbformat_minor": 0,
  "metadata": {
    "colab": {
      "name": "Exp 6 Implementation of Named Entity Recognition.ipynb",
      "provenance": [],
      "collapsed_sections": []
    },
    "kernelspec": {
      "name": "python3",
      "display_name": "Python 3"
    },
    "language_info": {
      "name": "python"
    }
  },
  "cells": [
    {
      "cell_type": "code",
      "execution_count": 4,
      "metadata": {
        "colab": {
          "base_uri": "https://localhost:8080/"
        },
        "id": "AJ-Wg_sR1CXo",
        "outputId": "dc073ad1-1cdf-4cb4-9726-4ee83cb7ff1a"
      },
      "outputs": [
        {
          "output_type": "stream",
          "name": "stdout",
          "text": [
            "[('Prashant Kishor', 'PERSON'), ('Priyanka Gandhi', 'PERSON'), ('Congress', 'ORG')]\n"
          ]
        }
      ],
      "source": [
        "import spacy\n",
        "from spacy import displacy\n",
        "from collections import Counter\n",
        "import en_core_web_sm\n",
        "nlp = en_core_web_sm.load()\n",
        "\n",
        "doc = nlp('Prashant Kishor wanted Priyanka Gandhi as Congress chief, free hand in effecting party reforms')\n",
        "print([(X.text, X.label_) for X in doc.ents])"
      ]
    }
  ]
}