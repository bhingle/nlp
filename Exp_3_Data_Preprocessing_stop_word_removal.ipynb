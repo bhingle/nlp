{
  "nbformat": 4,
  "nbformat_minor": 0,
  "metadata": {
    "colab": {
      "name": "Exp 3 - Data Preprocessing  stop word removal.ipynb",
      "provenance": []
    },
    "kernelspec": {
      "name": "python3",
      "display_name": "Python 3"
    },
    "language_info": {
      "name": "python"
    }
  },
  "cells": [
    {
      "cell_type": "code",
      "execution_count": 6,
      "metadata": {
        "colab": {
          "base_uri": "https://localhost:8080/"
        },
        "id": "dppP73gmOqx_",
        "outputId": "4c011ad1-7717-4ab1-af4d-7ede127c6eda"
      },
      "outputs": [
        {
          "output_type": "stream",
          "name": "stdout",
          "text": [
            "[nltk_data] Downloading package punkt to /root/nltk_data...\n",
            "[nltk_data]   Unzipping tokenizers/punkt.zip.\n",
            "[nltk_data] Downloading package stopwords to /root/nltk_data...\n",
            "[nltk_data]   Package stopwords is already up-to-date!\n"
          ]
        },
        {
          "output_type": "execute_result",
          "data": {
            "text/plain": [
              "True"
            ]
          },
          "metadata": {},
          "execution_count": 6
        }
      ],
      "source": [
        "import nltk\n",
        "nltk.download('punkt')\n",
        "nltk.download('stopwords')"
      ]
    },
    {
      "cell_type": "code",
      "source": [
        "# Experiment 3 - Data pre processing with stop word removal\n",
        "\n",
        "from nltk.corpus import stopwords\n",
        "from nltk.tokenize import word_tokenize\n",
        "\n",
        "processed = []\n",
        "\n",
        "input_str =\"The Wire is an Indian nonprofit news and opinion website which publishes in English, Hindi, Marathi, and Urdu. It was founded in 2015 by Siddharth Varadarajan, Sidharth Bhatia, and M. K. Venu and is organized as a nonprofit organization named the Foundation for Independent Journalism.\"\n",
        "lowercase_input_str = input_str.lower()\n",
        "\n",
        "stopwords_list = list(stopwords.words('english'))\n",
        "\n",
        "word_tok = word_tokenize(lowercase_input_str)\n",
        "\n",
        "for word in word_tok:\n",
        "  if word not in stopwords_list:\n",
        "    processed.append(word)\n",
        "\n",
        "print(processed)\n"
      ],
      "metadata": {
        "colab": {
          "base_uri": "https://localhost:8080/"
        },
        "id": "R_A62CWvO9UJ",
        "outputId": "fef13073-e88a-4f43-a793-7e97dab7d1a8"
      },
      "execution_count": 7,
      "outputs": [
        {
          "output_type": "stream",
          "name": "stdout",
          "text": [
            "['wire', 'indian', 'nonprofit', 'news', 'opinion', 'website', 'publishes', 'english', ',', 'hindi', ',', 'marathi', ',', 'urdu', '.', 'founded', '2015', 'siddharth', 'varadarajan', ',', 'sidharth', 'bhatia', ',', 'm.', 'k.', 'venu', 'organized', 'nonprofit', 'organization', 'named', 'foundation', 'independent', 'journalism', '.']\n"
          ]
        }
      ]
    }
  ]
}