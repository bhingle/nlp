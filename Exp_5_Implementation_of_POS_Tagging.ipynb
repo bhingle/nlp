{
  "nbformat": 4,
  "nbformat_minor": 0,
  "metadata": {
    "colab": {
      "name": "Exp 5 Implementation of POS Tagging.ipynb",
      "provenance": [],
      "collapsed_sections": []
    },
    "kernelspec": {
      "name": "python3",
      "display_name": "Python 3"
    },
    "language_info": {
      "name": "python"
    }
  },
  "cells": [
    {
      "cell_type": "code",
      "execution_count": 4,
      "metadata": {
        "colab": {
          "base_uri": "https://localhost:8080/"
        },
        "id": "sHlyul0jziY1",
        "outputId": "eb465317-0fc3-4cee-bb68-9767cc99424a"
      },
      "outputs": [
        {
          "output_type": "stream",
          "name": "stdout",
          "text": [
            "[nltk_data] Downloading package punkt to /root/nltk_data...\n",
            "[nltk_data]   Package punkt is already up-to-date!\n",
            "[nltk_data] Downloading package averaged_perceptron_tagger to\n",
            "[nltk_data]     /root/nltk_data...\n",
            "[nltk_data]   Unzipping taggers/averaged_perceptron_tagger.zip.\n"
          ]
        },
        {
          "output_type": "execute_result",
          "data": {
            "text/plain": [
              "True"
            ]
          },
          "metadata": {},
          "execution_count": 4
        }
      ],
      "source": [
        "import nltk\n",
        "nltk.download('punkt')\n",
        "nltk.download('averaged_perceptron_tagger')"
      ]
    },
    {
      "cell_type": "code",
      "source": [
        "\n",
        "from nltk.corpus import stopwords\n",
        "from nltk.tokenize import word_tokenize, sent_tokenize\n",
        "stop_words = set(stopwords.words('english'))\n",
        " \n",
        "text = \"Prashant Kishor wanted Priyanka as Congress chief, free hand in effecting party reforms\"\n",
        " \n",
        "tokenized = sent_tokenize(text)\n",
        "for i in tokenized:\n",
        "     \n",
        "    wordsList = nltk.word_tokenize(i)\n",
        "    wordsList = [w for w in wordsList if not w in stop_words]\n",
        "    tagged = nltk.pos_tag(wordsList)\n",
        " \n",
        "    print(tagged)"
      ],
      "metadata": {
        "colab": {
          "base_uri": "https://localhost:8080/"
        },
        "id": "X8-w0qZ80CCl",
        "outputId": "f5f96a86-8710-4290-a4b9-a26c3cba1b19"
      },
      "execution_count": 7,
      "outputs": [
        {
          "output_type": "stream",
          "name": "stdout",
          "text": [
            "[('Prashant', 'NNP'), ('Kishor', 'NNP'), ('wanted', 'VBD'), ('Priyanka', 'NNP'), ('Congress', 'NNP'), ('chief', 'NN'), (',', ','), ('free', 'JJ'), ('hand', 'NN'), ('effecting', 'VBG'), ('party', 'NN'), ('reforms', 'NNS')]\n"
          ]
        }
      ]
    }
  ]
}