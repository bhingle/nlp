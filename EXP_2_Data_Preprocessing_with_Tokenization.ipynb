{
  "nbformat": 4,
  "nbformat_minor": 0,
  "metadata": {
    "colab": {
      "name": "EXP 2 - Data Preprocessing with Tokenization.ipynb",
      "provenance": []
    },
    "kernelspec": {
      "name": "python3",
      "display_name": "Python 3"
    },
    "language_info": {
      "name": "python"
    }
  },
  "cells": [
    {
      "cell_type": "code",
      "execution_count": 2,
      "metadata": {
        "colab": {
          "base_uri": "https://localhost:8080/"
        },
        "id": "ecAKbmpHK2Lr",
        "outputId": "43962ea2-e125-4803-ee82-2817d75b0f8b"
      },
      "outputs": [
        {
          "output_type": "stream",
          "name": "stdout",
          "text": [
            "[nltk_data] Downloading package punkt to /root/nltk_data...\n",
            "[nltk_data]   Unzipping tokenizers/punkt.zip.\n"
          ]
        },
        {
          "output_type": "execute_result",
          "data": {
            "text/plain": [
              "True"
            ]
          },
          "metadata": {},
          "execution_count": 2
        }
      ],
      "source": [
        "import nltk\n",
        "nltk.download('punkt')"
      ]
    },
    {
      "cell_type": "code",
      "source": [
        "# Experiment 2 - Data pre-processing with tokenization\n",
        "\n",
        "input_str =\"The Wire is an Indian nonprofit news and opinion website which publishes in English, Hindi, Marathi, and Urdu. It was founded in 2015 by Siddharth Varadarajan, Sidharth Bhatia, and M. K. Venu and is organized as a nonprofit organization named the Foundation for Independent Journalism.\"\n",
        "lowercase_input_str = input_str.lower()\n",
        "\n",
        "from nltk.tokenize import word_tokenize, sent_tokenize\n",
        "\n",
        "sentence_tok = sent_tokenize(lowercase_input_str)\n",
        "word_tok = word_tokenize(lowercase_input_str)\n",
        "\n",
        "print(sentence_tok)\n",
        "print(word_tok)"
      ],
      "metadata": {
        "colab": {
          "base_uri": "https://localhost:8080/"
        },
        "id": "GVui5fB2LHOT",
        "outputId": "03f9a5ec-f69f-4298-b1e4-378d13de7dba"
      },
      "execution_count": 3,
      "outputs": [
        {
          "output_type": "stream",
          "name": "stdout",
          "text": [
            "['the wire is an indian nonprofit news and opinion website which publishes in english, hindi, marathi, and urdu.', 'it was founded in 2015 by siddharth varadarajan, sidharth bhatia, and m. k. venu and is organized as a nonprofit organization named the foundation for independent journalism.']\n",
            "['the', 'wire', 'is', 'an', 'indian', 'nonprofit', 'news', 'and', 'opinion', 'website', 'which', 'publishes', 'in', 'english', ',', 'hindi', ',', 'marathi', ',', 'and', 'urdu', '.', 'it', 'was', 'founded', 'in', '2015', 'by', 'siddharth', 'varadarajan', ',', 'sidharth', 'bhatia', ',', 'and', 'm.', 'k.', 'venu', 'and', 'is', 'organized', 'as', 'a', 'nonprofit', 'organization', 'named', 'the', 'foundation', 'for', 'independent', 'journalism', '.']\n"
          ]
        }
      ]
    }
  ]
}